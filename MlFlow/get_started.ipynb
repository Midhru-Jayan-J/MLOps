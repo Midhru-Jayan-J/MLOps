{
 "cells": [
  {
   "cell_type": "markdown",
   "id": "7ca558e2",
   "metadata": {},
   "source": [
    "# MLFlow Tracking Server\n",
    "\n"
   ]
  },
  {
   "cell_type": "code",
   "execution_count": 1,
   "id": "5d8000c0",
   "metadata": {},
   "outputs": [],
   "source": [
    "import mlflow"
   ]
  },
  {
   "cell_type": "code",
   "execution_count": 2,
   "id": "d681ce1a",
   "metadata": {},
   "outputs": [],
   "source": [
    "mlflow.set_tracking_uri(\"http://127.0.0.1:5000\")"
   ]
  },
  {
   "cell_type": "code",
   "execution_count": 4,
   "id": "43a8b5d3",
   "metadata": {},
   "outputs": [
    {
     "name": "stderr",
     "output_type": "stream",
     "text": [
      "2025/05/19 23:19:47 INFO mlflow.tracking.fluent: Experiment with name 'Check localhost connection' does not exist. Creating a new experiment.\n"
     ]
    },
    {
     "name": "stdout",
     "output_type": "stream",
     "text": [
      "🏃 View run worried-colt-234 at: http://127.0.0.1:5000/#/experiments/604047793421418035/runs/4e73c6319abd4cdebf460d2ca4d59929\n",
      "🧪 View experiment at: http://127.0.0.1:5000/#/experiments/604047793421418035\n"
     ]
    }
   ],
   "source": [
    "mlflow.set_experiment(\"Check localhost connection\")\n",
    "\n",
    "with mlflow.start_run():\n",
    "    mlflow.log_metric(\"test\", 1)\n",
    "    mlflow.log_metric(\"Midhru\", 2)\n"
   ]
  },
  {
   "cell_type": "code",
   "execution_count": 6,
   "id": "0e55b404",
   "metadata": {},
   "outputs": [
    {
     "name": "stdout",
     "output_type": "stream",
     "text": [
      "🏃 View run chill-gnu-486 at: http://127.0.0.1:5000/#/experiments/604047793421418035/runs/c8a2f50fd4e84e32a712f6828c37ca2c\n",
      "🧪 View experiment at: http://127.0.0.1:5000/#/experiments/604047793421418035\n"
     ]
    }
   ],
   "source": [
    "with mlflow.start_run():\n",
    "    mlflow.log_metric(\"test1\", 1)\n",
    "    mlflow.log_metric(\"Midhru1\", 2)"
   ]
  },
  {
   "cell_type": "code",
   "execution_count": null,
   "id": "392d6c2e",
   "metadata": {},
   "outputs": [],
   "source": []
  }
 ],
 "metadata": {
  "kernelspec": {
   "display_name": "Python 3",
   "language": "python",
   "name": "python3"
  },
  "language_info": {
   "codemirror_mode": {
    "name": "ipython",
    "version": 3
   },
   "file_extension": ".py",
   "mimetype": "text/x-python",
   "name": "python",
   "nbconvert_exporter": "python",
   "pygments_lexer": "ipython3",
   "version": "3.10.16"
  }
 },
 "nbformat": 4,
 "nbformat_minor": 5
}
